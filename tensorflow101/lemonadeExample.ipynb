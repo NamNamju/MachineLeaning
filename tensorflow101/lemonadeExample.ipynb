{
  "nbformat": 4,
  "nbformat_minor": 0,
  "metadata": {
    "colab": {
      "name": "lemonadeExample.ipynb",
      "provenance": []
    },
    "kernelspec": {
      "name": "python3",
      "display_name": "Python 3"
    }
  },
  "cells": [
    {
      "cell_type": "code",
      "metadata": {
        "id": "ilg4q3d-NHRp"
      },
      "source": [
        "# 라이브러리 사용\r\n",
        "import tensorflow as tf\r\n",
        "import pandas as pd"
      ],
      "execution_count": 1,
      "outputs": []
    },
    {
      "cell_type": "code",
      "metadata": {
        "colab": {
          "base_uri": "https://localhost:8080/",
          "height": 202
        },
        "id": "2rFfwpB3NOyO",
        "outputId": "473e25d8-5e9a-418b-ccd1-0c36f9a9ab1a"
      },
      "source": [
        "# 1. 데이터 준비 - 독립변수와 종속변수를 나누어서 데이터를 준비해준다.\r\n",
        "\r\n",
        "# 파일로부터 데이터 읽어오기\r\n",
        "파일경로 = \"https://raw.githubusercontent.com/blackdew/tensorflow1/master/csv/lemonade.csv\"\r\n",
        "데이터 = pd.read_csv(파일경로)\r\n",
        "\r\n",
        "# 데이터를 잘 읽어들였는지 확인\r\n",
        "데이터.head()\r\n"
      ],
      "execution_count": 4,
      "outputs": [
        {
          "output_type": "execute_result",
          "data": {
            "text/html": [
              "<div>\n",
              "<style scoped>\n",
              "    .dataframe tbody tr th:only-of-type {\n",
              "        vertical-align: middle;\n",
              "    }\n",
              "\n",
              "    .dataframe tbody tr th {\n",
              "        vertical-align: top;\n",
              "    }\n",
              "\n",
              "    .dataframe thead th {\n",
              "        text-align: right;\n",
              "    }\n",
              "</style>\n",
              "<table border=\"1\" class=\"dataframe\">\n",
              "  <thead>\n",
              "    <tr style=\"text-align: right;\">\n",
              "      <th></th>\n",
              "      <th>온도</th>\n",
              "      <th>판매량</th>\n",
              "    </tr>\n",
              "  </thead>\n",
              "  <tbody>\n",
              "    <tr>\n",
              "      <th>0</th>\n",
              "      <td>20</td>\n",
              "      <td>40</td>\n",
              "    </tr>\n",
              "    <tr>\n",
              "      <th>1</th>\n",
              "      <td>21</td>\n",
              "      <td>42</td>\n",
              "    </tr>\n",
              "    <tr>\n",
              "      <th>2</th>\n",
              "      <td>22</td>\n",
              "      <td>44</td>\n",
              "    </tr>\n",
              "    <tr>\n",
              "      <th>3</th>\n",
              "      <td>23</td>\n",
              "      <td>46</td>\n",
              "    </tr>\n",
              "    <tr>\n",
              "      <th>4</th>\n",
              "      <td>24</td>\n",
              "      <td>48</td>\n",
              "    </tr>\n",
              "  </tbody>\n",
              "</table>\n",
              "</div>"
            ],
            "text/plain": [
              "   온도  판매량\n",
              "0  20   40\n",
              "1  21   42\n",
              "2  22   44\n",
              "3  23   46\n",
              "4  24   48"
            ]
          },
          "metadata": {
            "tags": []
          },
          "execution_count": 4
        }
      ]
    },
    {
      "cell_type": "code",
      "metadata": {
        "colab": {
          "base_uri": "https://localhost:8080/"
        },
        "id": "m4GtQvE5NknJ",
        "outputId": "f0396639-4e85-41d1-adf5-9001bd3c3e13"
      },
      "source": [
        "# 종속변수와 독립변수 나누기\r\n",
        "\r\n",
        "독립 = 데이터[['온도']]\r\n",
        "종속 = 데이터[['판매량']]\r\n",
        "\r\n",
        "print(독립.shape, 종속.shape)"
      ],
      "execution_count": 5,
      "outputs": [
        {
          "output_type": "stream",
          "text": [
            "(6, 1) (6, 1)\n"
          ],
          "name": "stdout"
        }
      ]
    },
    {
      "cell_type": "code",
      "metadata": {
        "id": "SJJ3Ek3CN8Gc"
      },
      "source": [
        "# 2. 모델을 만든다.\r\n",
        "\r\n",
        "X = tf.keras.layers.Input(shape=[1]) # 독립변수의 개수\r\n",
        "Y = tf.keras.layers.Dense(1)(X) # 종속변수의 개수\r\n",
        "model = tf.keras.models.Model(X,Y) # model을 만든다.\r\n",
        "model.compile(loss='mse') # model을 어떤 방법으로 학습하게 할 것인지 정한다."
      ],
      "execution_count": 9,
      "outputs": []
    },
    {
      "cell_type": "code",
      "metadata": {
        "colab": {
          "base_uri": "https://localhost:8080/"
        },
        "id": "kvsDjzETOP_2",
        "outputId": "77450d1a-2f6e-4d4c-f369-bfadc26a2bbb"
      },
      "source": [
        "# 3. 모델을 학습시킨다.\r\n",
        "model.fit(독립, 종속, epochs=10) # epochs는 몇 번 반복할지를 정한다. 많이 반복할 수록 예측이 더 정확해진다."
      ],
      "execution_count": 15,
      "outputs": [
        {
          "output_type": "stream",
          "text": [
            "Epoch 1/10\n",
            "1/1 [==============================] - 0s 4ms/step - loss: 1.7276e-04\n",
            "Epoch 2/10\n",
            "1/1 [==============================] - 0s 4ms/step - loss: 1.7257e-04\n",
            "Epoch 3/10\n",
            "1/1 [==============================] - 0s 4ms/step - loss: 1.7248e-04\n",
            "Epoch 4/10\n",
            "1/1 [==============================] - 0s 4ms/step - loss: 1.7255e-04\n",
            "Epoch 5/10\n",
            "1/1 [==============================] - 0s 4ms/step - loss: 1.7276e-04\n",
            "Epoch 6/10\n",
            "1/1 [==============================] - 0s 4ms/step - loss: 1.7297e-04\n",
            "Epoch 7/10\n",
            "1/1 [==============================] - 0s 4ms/step - loss: 1.7312e-04\n",
            "Epoch 8/10\n",
            "1/1 [==============================] - 0s 4ms/step - loss: 1.7317e-04\n",
            "Epoch 9/10\n",
            "1/1 [==============================] - 0s 4ms/step - loss: 1.7312e-04\n",
            "Epoch 10/10\n",
            "1/1 [==============================] - 0s 4ms/step - loss: 1.7304e-04\n"
          ],
          "name": "stdout"
        },
        {
          "output_type": "execute_result",
          "data": {
            "text/plain": [
              "<tensorflow.python.keras.callbacks.History at 0x7f857cd1e470>"
            ]
          },
          "metadata": {
            "tags": []
          },
          "execution_count": 15
        }
      ]
    },
    {
      "cell_type": "code",
      "metadata": {
        "colab": {
          "base_uri": "https://localhost:8080/"
        },
        "id": "LowceUyuOuPW",
        "outputId": "dffe2216-f18f-427d-cd7c-e45409248135"
      },
      "source": [
        "# 4. 모델을 이용한다.\r\n",
        "model.predict(독립)"
      ],
      "execution_count": 13,
      "outputs": [
        {
          "output_type": "execute_result",
          "data": {
            "text/plain": [
              "array([[40.019463],\n",
              "       [42.01654 ],\n",
              "       [44.013622],\n",
              "       [46.0107  ],\n",
              "       [48.00778 ],\n",
              "       [50.00486 ]], dtype=float32)"
            ]
          },
          "metadata": {
            "tags": []
          },
          "execution_count": 13
        }
      ]
    },
    {
      "cell_type": "code",
      "metadata": {
        "colab": {
          "base_uri": "https://localhost:8080/"
        },
        "id": "jXgiiRUxPjEY",
        "outputId": "5a13493a-f3e6-4bc7-b1bc-8827b90d85da"
      },
      "source": [
        "model.predict([[15]])"
      ],
      "execution_count": 14,
      "outputs": [
        {
          "output_type": "execute_result",
          "data": {
            "text/plain": [
              "array([[30.034065]], dtype=float32)"
            ]
          },
          "metadata": {
            "tags": []
          },
          "execution_count": 14
        }
      ]
    }
  ]
}