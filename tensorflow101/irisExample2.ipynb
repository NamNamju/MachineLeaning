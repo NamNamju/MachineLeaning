{
  "nbformat": 4,
  "nbformat_minor": 0,
  "metadata": {
    "colab": {
      "name": "irisExample2.ipynb",
      "provenance": []
    },
    "kernelspec": {
      "name": "python3",
      "display_name": "Python 3"
    }
  },
  "cells": [
    {
      "cell_type": "code",
      "metadata": {
        "id": "61qC0bzDgqpg"
      },
      "source": [
        "# 라이브러리 사용\r\n",
        "import tensorflow as tf\r\n",
        "import pandas as pd"
      ],
      "execution_count": 1,
      "outputs": []
    },
    {
      "cell_type": "code",
      "metadata": {
        "colab": {
          "base_uri": "https://localhost:8080/",
          "height": 221
        },
        "id": "T4GY7z9Zgyel",
        "outputId": "3a04180c-1a90-4528-a07e-357eda533877"
      },
      "source": [
        "# 1. 데이터 준비 - 독립변수와 종속변수를 나누어 데이터를 준비해야 한다.\r\n",
        "\r\n",
        "파일경로 = \"https://raw.githubusercontent.com/blackdew/tensorflow1/master/csv/iris.csv\"\r\n",
        "데이터 = pd.read_csv(파일경로)\r\n",
        "\r\n",
        "# 데이터를 잘 읽어들였는지 확인한다.\r\n",
        "print(데이터.columns)\r\n",
        "데이터.head()"
      ],
      "execution_count": 4,
      "outputs": [
        {
          "output_type": "stream",
          "text": [
            "Index(['꽃잎길이', '꽃잎폭', '꽃받침길이', '꽃받침폭', '품종'], dtype='object')\n"
          ],
          "name": "stdout"
        },
        {
          "output_type": "execute_result",
          "data": {
            "text/html": [
              "<div>\n",
              "<style scoped>\n",
              "    .dataframe tbody tr th:only-of-type {\n",
              "        vertical-align: middle;\n",
              "    }\n",
              "\n",
              "    .dataframe tbody tr th {\n",
              "        vertical-align: top;\n",
              "    }\n",
              "\n",
              "    .dataframe thead th {\n",
              "        text-align: right;\n",
              "    }\n",
              "</style>\n",
              "<table border=\"1\" class=\"dataframe\">\n",
              "  <thead>\n",
              "    <tr style=\"text-align: right;\">\n",
              "      <th></th>\n",
              "      <th>꽃잎길이</th>\n",
              "      <th>꽃잎폭</th>\n",
              "      <th>꽃받침길이</th>\n",
              "      <th>꽃받침폭</th>\n",
              "      <th>품종</th>\n",
              "    </tr>\n",
              "  </thead>\n",
              "  <tbody>\n",
              "    <tr>\n",
              "      <th>0</th>\n",
              "      <td>5.1</td>\n",
              "      <td>3.5</td>\n",
              "      <td>1.4</td>\n",
              "      <td>0.2</td>\n",
              "      <td>setosa</td>\n",
              "    </tr>\n",
              "    <tr>\n",
              "      <th>1</th>\n",
              "      <td>4.9</td>\n",
              "      <td>3.0</td>\n",
              "      <td>1.4</td>\n",
              "      <td>0.2</td>\n",
              "      <td>setosa</td>\n",
              "    </tr>\n",
              "    <tr>\n",
              "      <th>2</th>\n",
              "      <td>4.7</td>\n",
              "      <td>3.2</td>\n",
              "      <td>1.3</td>\n",
              "      <td>0.2</td>\n",
              "      <td>setosa</td>\n",
              "    </tr>\n",
              "    <tr>\n",
              "      <th>3</th>\n",
              "      <td>4.6</td>\n",
              "      <td>3.1</td>\n",
              "      <td>1.5</td>\n",
              "      <td>0.2</td>\n",
              "      <td>setosa</td>\n",
              "    </tr>\n",
              "    <tr>\n",
              "      <th>4</th>\n",
              "      <td>5.0</td>\n",
              "      <td>3.6</td>\n",
              "      <td>1.4</td>\n",
              "      <td>0.2</td>\n",
              "      <td>setosa</td>\n",
              "    </tr>\n",
              "  </tbody>\n",
              "</table>\n",
              "</div>"
            ],
            "text/plain": [
              "   꽃잎길이  꽃잎폭  꽃받침길이  꽃받침폭      품종\n",
              "0   5.1  3.5    1.4   0.2  setosa\n",
              "1   4.9  3.0    1.4   0.2  setosa\n",
              "2   4.7  3.2    1.3   0.2  setosa\n",
              "3   4.6  3.1    1.5   0.2  setosa\n",
              "4   5.0  3.6    1.4   0.2  setosa"
            ]
          },
          "metadata": {
            "tags": []
          },
          "execution_count": 4
        }
      ]
    },
    {
      "cell_type": "code",
      "metadata": {
        "colab": {
          "base_uri": "https://localhost:8080/",
          "height": 258
        },
        "id": "-Za6_KZog0hL",
        "outputId": "0f675b2c-0f8d-48bf-9569-8deaf449f22e"
      },
      "source": [
        "# 원핫인코딩\r\n",
        "인코딩 = pd.get_dummies(데이터)\r\n",
        "print(인코딩.columns)\r\n",
        "인코딩.head()"
      ],
      "execution_count": 5,
      "outputs": [
        {
          "output_type": "stream",
          "text": [
            "Index(['꽃잎길이', '꽃잎폭', '꽃받침길이', '꽃받침폭', '품종_setosa', '품종_versicolor',\n",
            "       '품종_virginica'],\n",
            "      dtype='object')\n"
          ],
          "name": "stdout"
        },
        {
          "output_type": "execute_result",
          "data": {
            "text/html": [
              "<div>\n",
              "<style scoped>\n",
              "    .dataframe tbody tr th:only-of-type {\n",
              "        vertical-align: middle;\n",
              "    }\n",
              "\n",
              "    .dataframe tbody tr th {\n",
              "        vertical-align: top;\n",
              "    }\n",
              "\n",
              "    .dataframe thead th {\n",
              "        text-align: right;\n",
              "    }\n",
              "</style>\n",
              "<table border=\"1\" class=\"dataframe\">\n",
              "  <thead>\n",
              "    <tr style=\"text-align: right;\">\n",
              "      <th></th>\n",
              "      <th>꽃잎길이</th>\n",
              "      <th>꽃잎폭</th>\n",
              "      <th>꽃받침길이</th>\n",
              "      <th>꽃받침폭</th>\n",
              "      <th>품종_setosa</th>\n",
              "      <th>품종_versicolor</th>\n",
              "      <th>품종_virginica</th>\n",
              "    </tr>\n",
              "  </thead>\n",
              "  <tbody>\n",
              "    <tr>\n",
              "      <th>0</th>\n",
              "      <td>5.1</td>\n",
              "      <td>3.5</td>\n",
              "      <td>1.4</td>\n",
              "      <td>0.2</td>\n",
              "      <td>1</td>\n",
              "      <td>0</td>\n",
              "      <td>0</td>\n",
              "    </tr>\n",
              "    <tr>\n",
              "      <th>1</th>\n",
              "      <td>4.9</td>\n",
              "      <td>3.0</td>\n",
              "      <td>1.4</td>\n",
              "      <td>0.2</td>\n",
              "      <td>1</td>\n",
              "      <td>0</td>\n",
              "      <td>0</td>\n",
              "    </tr>\n",
              "    <tr>\n",
              "      <th>2</th>\n",
              "      <td>4.7</td>\n",
              "      <td>3.2</td>\n",
              "      <td>1.3</td>\n",
              "      <td>0.2</td>\n",
              "      <td>1</td>\n",
              "      <td>0</td>\n",
              "      <td>0</td>\n",
              "    </tr>\n",
              "    <tr>\n",
              "      <th>3</th>\n",
              "      <td>4.6</td>\n",
              "      <td>3.1</td>\n",
              "      <td>1.5</td>\n",
              "      <td>0.2</td>\n",
              "      <td>1</td>\n",
              "      <td>0</td>\n",
              "      <td>0</td>\n",
              "    </tr>\n",
              "    <tr>\n",
              "      <th>4</th>\n",
              "      <td>5.0</td>\n",
              "      <td>3.6</td>\n",
              "      <td>1.4</td>\n",
              "      <td>0.2</td>\n",
              "      <td>1</td>\n",
              "      <td>0</td>\n",
              "      <td>0</td>\n",
              "    </tr>\n",
              "  </tbody>\n",
              "</table>\n",
              "</div>"
            ],
            "text/plain": [
              "   꽃잎길이  꽃잎폭  꽃받침길이  꽃받침폭  품종_setosa  품종_versicolor  품종_virginica\n",
              "0   5.1  3.5    1.4   0.2          1              0             0\n",
              "1   4.9  3.0    1.4   0.2          1              0             0\n",
              "2   4.7  3.2    1.3   0.2          1              0             0\n",
              "3   4.6  3.1    1.5   0.2          1              0             0\n",
              "4   5.0  3.6    1.4   0.2          1              0             0"
            ]
          },
          "metadata": {
            "tags": []
          },
          "execution_count": 5
        }
      ]
    },
    {
      "cell_type": "code",
      "metadata": {
        "colab": {
          "base_uri": "https://localhost:8080/"
        },
        "id": "dNUF1MpZiR8q",
        "outputId": "f3d57e35-6b97-4a93-800c-1195184607fb"
      },
      "source": [
        "# 독립변수와 종속변수 나누기\r\n",
        "독립 = 인코딩[['꽃잎길이', '꽃잎폭', '꽃받침길이', '꽃받침폭']]\r\n",
        "종속 = 인코딩[['품종_setosa', '품종_versicolor',\r\n",
        "       '품종_virginica']]\r\n",
        "\r\n",
        "print(독립.shape,종속.shape) # shape를 이용해서 항상 눈으로 체크해준다."
      ],
      "execution_count": 8,
      "outputs": [
        {
          "output_type": "stream",
          "text": [
            "(150, 4) (150, 3)\n"
          ],
          "name": "stdout"
        }
      ]
    },
    {
      "cell_type": "code",
      "metadata": {
        "id": "XNoiZ2x9g2FV"
      },
      "source": [
        "# 2. 모델의 구조를 만든다.\r\n",
        "X = tf.keras.layers.Input(shape=[4])\r\n",
        "H = tf.keras.layers.Dense(8, activation= 'swish')(X)\r\n",
        "H = tf.keras.layers.Dense(8, activation= 'swish')(H)\r\n",
        "H = tf.keras.layers.Dense(8, activation= 'swish')(H) \r\n",
        "Y = tf.keras.layers.Dense(3, activation = 'softmax')(H) # 분류 모델 : softmax -> 0과 1 사이의 결과값을 알 수 있다.\r\n",
        "model = tf.keras.models.Model(X,Y)\r\n",
        "model.compile(loss='categorical_crossentropy',metrics='accuracy') # 분류 모델 = categorical_crossentropy, accuracy는 정확도를 보여준다."
      ],
      "execution_count": 11,
      "outputs": []
    },
    {
      "cell_type": "code",
      "metadata": {
        "colab": {
          "base_uri": "https://localhost:8080/"
        },
        "id": "Qyw5JM9_hDmt",
        "outputId": "baa97d58-991f-40be-946a-a9287f2d4d53"
      },
      "source": [
        "# 3. 모델을 학습(FIT)시킨다.\r\n",
        "model.fit(독립, 종속, epochs=10)"
      ],
      "execution_count": 12,
      "outputs": [
        {
          "output_type": "stream",
          "text": [
            "Epoch 1/10\n",
            "5/5 [==============================] - 1s 2ms/step - loss: 0.9997 - accuracy: 0.3791\n",
            "Epoch 2/10\n",
            "5/5 [==============================] - 0s 2ms/step - loss: 0.9828 - accuracy: 0.3238\n",
            "Epoch 3/10\n",
            "5/5 [==============================] - 0s 2ms/step - loss: 0.9265 - accuracy: 0.3707\n",
            "Epoch 4/10\n",
            "5/5 [==============================] - 0s 2ms/step - loss: 0.9364 - accuracy: 0.3316\n",
            "Epoch 5/10\n",
            "5/5 [==============================] - 0s 2ms/step - loss: 0.9332 - accuracy: 0.3283\n",
            "Epoch 6/10\n",
            "5/5 [==============================] - 0s 2ms/step - loss: 0.8909 - accuracy: 0.3411\n",
            "Epoch 7/10\n",
            "5/5 [==============================] - 0s 2ms/step - loss: 0.8841 - accuracy: 0.3595\n",
            "Epoch 8/10\n",
            "5/5 [==============================] - 0s 2ms/step - loss: 0.8967 - accuracy: 0.3288\n",
            "Epoch 9/10\n",
            "5/5 [==============================] - 0s 2ms/step - loss: 0.8467 - accuracy: 0.4036\n",
            "Epoch 10/10\n",
            "5/5 [==============================] - 0s 2ms/step - loss: 0.8377 - accuracy: 0.3801\n"
          ],
          "name": "stdout"
        },
        {
          "output_type": "execute_result",
          "data": {
            "text/plain": [
              "<tensorflow.python.keras.callbacks.History at 0x7fab215d9208>"
            ]
          },
          "metadata": {
            "tags": []
          },
          "execution_count": 12
        }
      ]
    },
    {
      "cell_type": "code",
      "metadata": {
        "colab": {
          "base_uri": "https://localhost:8080/"
        },
        "id": "5yHTeW3GiLyT",
        "outputId": "901c48d2-abf5-45e8-c0fa-79d37c190828"
      },
      "source": [
        "# 4. 모델을 이용한다\r\n",
        "model.predict(독립[0:5]) # 0번째부터 5번째까지만 사용한다."
      ],
      "execution_count": 14,
      "outputs": [
        {
          "output_type": "execute_result",
          "data": {
            "text/plain": [
              "array([[0.3511789 , 0.39215955, 0.25666147],\n",
              "       [0.362     , 0.38573295, 0.252267  ],\n",
              "       [0.36156446, 0.38197035, 0.25646517],\n",
              "       [0.3586471 , 0.38180867, 0.25954425],\n",
              "       [0.34933093, 0.39042336, 0.26024568]], dtype=float32)"
            ]
          },
          "metadata": {
            "tags": []
          },
          "execution_count": 14
        }
      ]
    },
    {
      "cell_type": "code",
      "metadata": {
        "colab": {
          "base_uri": "https://localhost:8080/"
        },
        "id": "hpsziHDekHtn",
        "outputId": "75798ca8-bc29-424a-e38e-9e14464a6d79"
      },
      "source": [
        "# 5. 학습한 가중치\r\n",
        "model.get_weights() "
      ],
      "execution_count": 15,
      "outputs": [
        {
          "output_type": "execute_result",
          "data": {
            "text/plain": [
              "[array([[ 0.06131155, -0.05509567, -0.39325434, -0.06655996, -0.24581315,\n",
              "          0.20763488,  0.12896633, -0.27253163],\n",
              "        [ 0.0736917 , -0.5205066 , -0.13493809, -0.38900834,  0.38844863,\n",
              "          0.59516525, -0.34238642, -0.44468668],\n",
              "        [ 0.5285343 , -0.14404485, -0.59426737,  0.31017664,  0.28117093,\n",
              "          0.4713631 , -0.28934342, -0.28887337],\n",
              "        [ 0.00079643, -0.4365281 , -0.6353717 ,  0.095545  ,  0.7283959 ,\n",
              "          0.18000461, -0.09960534, -0.70305026]], dtype=float32),\n",
              " array([ 0.04644314,  0.05399561,  0.01296756,  0.04582613, -0.0057075 ,\n",
              "        -0.00761372,  0.01668401,  0.01797974], dtype=float32),\n",
              " array([[ 0.23568237, -0.11508439,  0.4908043 ,  0.37381855, -0.20855816,\n",
              "         -0.10773718, -0.5556361 ,  0.08878138],\n",
              "        [ 0.32480162, -0.22885823, -0.49730763,  0.64275944, -0.09598392,\n",
              "          0.49565342, -0.09273367, -0.14751267],\n",
              "        [ 0.64166605,  0.00424059, -0.4899839 ,  0.10698231, -0.11617539,\n",
              "         -0.17159061,  0.34171316, -0.55619496],\n",
              "        [-0.3177029 , -0.06548977, -0.5802281 ,  0.5793423 ,  0.32849175,\n",
              "          0.05585619, -0.48539263,  0.35780582],\n",
              "        [-0.28870293, -0.06644114, -0.61568356,  0.6503709 , -0.2046282 ,\n",
              "         -0.40146324,  0.01935383, -0.15561756],\n",
              "        [ 0.09498653,  0.38139918,  0.41544533,  0.0934245 , -0.08840956,\n",
              "          0.27574265, -0.09300168, -0.14673142],\n",
              "        [-0.09686035,  0.07451624, -0.14691499,  0.07026647, -0.45079723,\n",
              "         -0.27945295,  0.12851429, -0.61964136],\n",
              "        [ 0.09700342, -0.5544178 ,  0.25714248,  0.12256836, -0.42215768,\n",
              "         -0.2288238 , -0.267398  , -0.6375402 ]], dtype=float32),\n",
              " array([-0.03704285,  0.03781388,  0.01237676, -0.01434112, -0.0197232 ,\n",
              "        -0.04601772, -0.05199023,  0.05744278], dtype=float32),\n",
              " array([[ 0.16697752,  0.14524707, -0.6119114 , -0.28584203, -0.39330146,\n",
              "         -0.33431   , -0.44243887,  0.2444757 ],\n",
              "        [ 0.2753096 , -0.6106033 , -0.3550577 ,  0.00373137, -0.42227283,\n",
              "         -0.528757  , -0.44298038,  0.34487185],\n",
              "        [ 0.30828616, -0.36287314, -0.19270663, -0.37670225,  0.17933893,\n",
              "          0.368615  ,  0.02193425, -0.4695772 ],\n",
              "        [-0.5139249 , -0.6069588 ,  0.17326882, -0.5500872 , -0.05455829,\n",
              "          0.52105963, -0.04783212,  0.5639093 ],\n",
              "        [-0.17174906, -0.13564861, -0.02647734,  0.37452772, -0.32776323,\n",
              "          0.25796077,  0.63818103, -0.36402857],\n",
              "        [ 0.5262893 ,  0.3843112 , -0.14731818, -0.28727034,  0.13994744,\n",
              "          0.16195643, -0.254766  ,  0.12668549],\n",
              "        [ 0.3412551 ,  0.34066874,  0.20479113, -0.07007115, -0.37849715,\n",
              "          0.37166438, -0.28803983,  0.25729606],\n",
              "        [ 0.15457945, -0.2922895 , -0.4434404 , -0.38887239, -0.40521443,\n",
              "         -0.42593038,  0.39425287, -0.26204237]], dtype=float32),\n",
              " array([-0.01570057, -0.04531818,  0.01443036,  0.04465721,  0.03521118,\n",
              "        -0.04398477, -0.03446535, -0.02721712], dtype=float32),\n",
              " array([[-0.58237344, -0.31894413, -0.644442  ],\n",
              "        [-0.7875786 ,  0.26368076, -0.3749362 ],\n",
              "        [ 0.40974754,  0.20418866,  0.48315105],\n",
              "        [ 0.06212978, -0.03854188, -0.34483936],\n",
              "        [ 0.6965272 ,  0.17707743,  0.4755275 ],\n",
              "        [-0.68938273,  0.10350349,  0.12253007],\n",
              "        [-0.07691927, -0.6379034 ,  0.5609334 ],\n",
              "        [-0.62893146, -0.6325203 ,  0.3941226 ]], dtype=float32),\n",
              " array([ 0.05412538, -0.00944468, -0.05243174], dtype=float32)]"
            ]
          },
          "metadata": {
            "tags": []
          },
          "execution_count": 15
        }
      ]
    }
  ]
}