{
  "nbformat": 4,
  "nbformat_minor": 0,
  "metadata": {
    "colab": {
      "name": "bostonExample2.ipynb",
      "provenance": []
    },
    "kernelspec": {
      "name": "python3",
      "display_name": "Python 3"
    }
  },
  "cells": [
    {
      "cell_type": "code",
      "metadata": {
        "id": "HP0PbOsSfNbN"
      },
      "source": [
        "# 라이브러리 사용\r\n",
        "import tensorflow as tf\r\n",
        "import pandas as pd"
      ],
      "execution_count": 1,
      "outputs": []
    },
    {
      "cell_type": "code",
      "metadata": {
        "colab": {
          "base_uri": "https://localhost:8080/",
          "height": 258
        },
        "id": "T0rLGkU0fUYR",
        "outputId": "f545ac36-a926-4519-8d14-b4949e83e2e9"
      },
      "source": [
        "# 1. 데이터 준비 - 독립변수와 종속변수를 나누어 데이터를 준비해야 한다.\r\n",
        "파일경로 = \"https://raw.githubusercontent.com/blackdew/tensorflow1/master/csv/boston.csv\"\r\n",
        "데이터 = pd.read_csv(파일경로)\r\n",
        "\r\n",
        "# 데이터를 잘 읽어들였는지 확인한다.\r\n",
        "print(데이터.columns)\r\n",
        "데이터.head()"
      ],
      "execution_count": 2,
      "outputs": [
        {
          "output_type": "stream",
          "text": [
            "Index(['crim', 'zn', 'indus', 'chas', 'nox', 'rm', 'age', 'dis', 'rad', 'tax',\n",
            "       'ptratio', 'b', 'lstat', 'medv'],\n",
            "      dtype='object')\n"
          ],
          "name": "stdout"
        },
        {
          "output_type": "execute_result",
          "data": {
            "text/html": [
              "<div>\n",
              "<style scoped>\n",
              "    .dataframe tbody tr th:only-of-type {\n",
              "        vertical-align: middle;\n",
              "    }\n",
              "\n",
              "    .dataframe tbody tr th {\n",
              "        vertical-align: top;\n",
              "    }\n",
              "\n",
              "    .dataframe thead th {\n",
              "        text-align: right;\n",
              "    }\n",
              "</style>\n",
              "<table border=\"1\" class=\"dataframe\">\n",
              "  <thead>\n",
              "    <tr style=\"text-align: right;\">\n",
              "      <th></th>\n",
              "      <th>crim</th>\n",
              "      <th>zn</th>\n",
              "      <th>indus</th>\n",
              "      <th>chas</th>\n",
              "      <th>nox</th>\n",
              "      <th>rm</th>\n",
              "      <th>age</th>\n",
              "      <th>dis</th>\n",
              "      <th>rad</th>\n",
              "      <th>tax</th>\n",
              "      <th>ptratio</th>\n",
              "      <th>b</th>\n",
              "      <th>lstat</th>\n",
              "      <th>medv</th>\n",
              "    </tr>\n",
              "  </thead>\n",
              "  <tbody>\n",
              "    <tr>\n",
              "      <th>0</th>\n",
              "      <td>0.00632</td>\n",
              "      <td>18.0</td>\n",
              "      <td>2.31</td>\n",
              "      <td>0</td>\n",
              "      <td>0.538</td>\n",
              "      <td>6.575</td>\n",
              "      <td>65.2</td>\n",
              "      <td>4.0900</td>\n",
              "      <td>1</td>\n",
              "      <td>296</td>\n",
              "      <td>15.3</td>\n",
              "      <td>396.90</td>\n",
              "      <td>4.98</td>\n",
              "      <td>24.0</td>\n",
              "    </tr>\n",
              "    <tr>\n",
              "      <th>1</th>\n",
              "      <td>0.02731</td>\n",
              "      <td>0.0</td>\n",
              "      <td>7.07</td>\n",
              "      <td>0</td>\n",
              "      <td>0.469</td>\n",
              "      <td>6.421</td>\n",
              "      <td>78.9</td>\n",
              "      <td>4.9671</td>\n",
              "      <td>2</td>\n",
              "      <td>242</td>\n",
              "      <td>17.8</td>\n",
              "      <td>396.90</td>\n",
              "      <td>9.14</td>\n",
              "      <td>21.6</td>\n",
              "    </tr>\n",
              "    <tr>\n",
              "      <th>2</th>\n",
              "      <td>0.02729</td>\n",
              "      <td>0.0</td>\n",
              "      <td>7.07</td>\n",
              "      <td>0</td>\n",
              "      <td>0.469</td>\n",
              "      <td>7.185</td>\n",
              "      <td>61.1</td>\n",
              "      <td>4.9671</td>\n",
              "      <td>2</td>\n",
              "      <td>242</td>\n",
              "      <td>17.8</td>\n",
              "      <td>392.83</td>\n",
              "      <td>4.03</td>\n",
              "      <td>34.7</td>\n",
              "    </tr>\n",
              "    <tr>\n",
              "      <th>3</th>\n",
              "      <td>0.03237</td>\n",
              "      <td>0.0</td>\n",
              "      <td>2.18</td>\n",
              "      <td>0</td>\n",
              "      <td>0.458</td>\n",
              "      <td>6.998</td>\n",
              "      <td>45.8</td>\n",
              "      <td>6.0622</td>\n",
              "      <td>3</td>\n",
              "      <td>222</td>\n",
              "      <td>18.7</td>\n",
              "      <td>394.63</td>\n",
              "      <td>2.94</td>\n",
              "      <td>33.4</td>\n",
              "    </tr>\n",
              "    <tr>\n",
              "      <th>4</th>\n",
              "      <td>0.06905</td>\n",
              "      <td>0.0</td>\n",
              "      <td>2.18</td>\n",
              "      <td>0</td>\n",
              "      <td>0.458</td>\n",
              "      <td>7.147</td>\n",
              "      <td>54.2</td>\n",
              "      <td>6.0622</td>\n",
              "      <td>3</td>\n",
              "      <td>222</td>\n",
              "      <td>18.7</td>\n",
              "      <td>396.90</td>\n",
              "      <td>5.33</td>\n",
              "      <td>36.2</td>\n",
              "    </tr>\n",
              "  </tbody>\n",
              "</table>\n",
              "</div>"
            ],
            "text/plain": [
              "      crim    zn  indus  chas    nox  ...  tax  ptratio       b  lstat  medv\n",
              "0  0.00632  18.0   2.31     0  0.538  ...  296     15.3  396.90   4.98  24.0\n",
              "1  0.02731   0.0   7.07     0  0.469  ...  242     17.8  396.90   9.14  21.6\n",
              "2  0.02729   0.0   7.07     0  0.469  ...  242     17.8  392.83   4.03  34.7\n",
              "3  0.03237   0.0   2.18     0  0.458  ...  222     18.7  394.63   2.94  33.4\n",
              "4  0.06905   0.0   2.18     0  0.458  ...  222     18.7  396.90   5.33  36.2\n",
              "\n",
              "[5 rows x 14 columns]"
            ]
          },
          "metadata": {
            "tags": []
          },
          "execution_count": 2
        }
      ]
    },
    {
      "cell_type": "code",
      "metadata": {
        "colab": {
          "base_uri": "https://localhost:8080/"
        },
        "id": "m8NSVz6MfZe2",
        "outputId": "76690680-199a-40ce-9300-b5ad430bc0bf"
      },
      "source": [
        "# 독립변수와 종속변수 나누기\r\n",
        "독립 = 데이터[['crim', 'zn', 'indus', 'chas', 'nox', 'rm', 'age', 'dis', 'rad', 'tax',\r\n",
        "       'ptratio', 'b', 'lstat']]\r\n",
        "종속 = 데이터[['medv']]\r\n",
        "\r\n",
        "print(독립.shape,종속.shape) # shape를 이용해서 항상 눈으로 체크해준다."
      ],
      "execution_count": 3,
      "outputs": [
        {
          "output_type": "stream",
          "text": [
            "(506, 13) (506, 1)\n"
          ],
          "name": "stdout"
        }
      ]
    },
    {
      "cell_type": "code",
      "metadata": {
        "id": "FcMT93_ifbjV"
      },
      "source": [
        "# 2. 모델의 구조를 만든다.\r\n",
        "X = tf.keras.layers.Input(shape=[13])\r\n",
        "H = tf.keras.layers.Dense(10, activation='swish')(X) # 히든 레이어\r\n",
        "Y = tf.keras.layers.Dense(1)(H)\r\n",
        "model = tf.keras.models.Model(X,Y)\r\n",
        "model.compile(loss='mse')"
      ],
      "execution_count": 6,
      "outputs": []
    },
    {
      "cell_type": "code",
      "metadata": {
        "colab": {
          "base_uri": "https://localhost:8080/"
        },
        "id": "Yddszob3f79R",
        "outputId": "a64f741f-f5d5-4cca-e1bd-78df7d1783aa"
      },
      "source": [
        "model.summary() # 모델 확인 # Param -> 가중치"
      ],
      "execution_count": 11,
      "outputs": [
        {
          "output_type": "stream",
          "text": [
            "Model: \"model_1\"\n",
            "_________________________________________________________________\n",
            "Layer (type)                 Output Shape              Param #   \n",
            "=================================================================\n",
            "input_2 (InputLayer)         [(None, 13)]              0         \n",
            "_________________________________________________________________\n",
            "dense_1 (Dense)              (None, 10)                140       \n",
            "_________________________________________________________________\n",
            "dense_2 (Dense)              (None, 1)                 11        \n",
            "=================================================================\n",
            "Total params: 151\n",
            "Trainable params: 151\n",
            "Non-trainable params: 0\n",
            "_________________________________________________________________\n"
          ],
          "name": "stdout"
        }
      ]
    },
    {
      "cell_type": "code",
      "metadata": {
        "colab": {
          "base_uri": "https://localhost:8080/"
        },
        "id": "qulg8ztFfdGE",
        "outputId": "0dae8bc2-fb06-49c2-c168-f8671c3a495c"
      },
      "source": [
        "# 3. 모델을 학습(FIT)시킨다.\r\n",
        "model.fit(독립, 종속, epochs=1000, verbose = 0) # verbose = 0 : 학습시키는 동안 출력이 안되게 만든다."
      ],
      "execution_count": 8,
      "outputs": [
        {
          "output_type": "execute_result",
          "data": {
            "text/plain": [
              "<tensorflow.python.keras.callbacks.History at 0x7f24617e9198>"
            ]
          },
          "metadata": {
            "tags": []
          },
          "execution_count": 8
        }
      ]
    },
    {
      "cell_type": "code",
      "metadata": {
        "colab": {
          "base_uri": "https://localhost:8080/"
        },
        "id": "ihSZdRR8ffTJ",
        "outputId": "1ec30628-d589-45cd-803f-2fe8d700cd04"
      },
      "source": [
        "# 4. 모델을 이용한다.\r\n",
        "model.predict(독립[0:5])"
      ],
      "execution_count": 13,
      "outputs": [
        {
          "output_type": "execute_result",
          "data": {
            "text/plain": [
              "array([[27.972813],\n",
              "       [23.017782],\n",
              "       [29.160046],\n",
              "       [28.360828],\n",
              "       [27.772354]], dtype=float32)"
            ]
          },
          "metadata": {
            "tags": []
          },
          "execution_count": 13
        }
      ]
    },
    {
      "cell_type": "code",
      "metadata": {
        "colab": {
          "base_uri": "https://localhost:8080/"
        },
        "id": "Tjk7jEH5gV9L",
        "outputId": "61a6f386-0f42-4e9c-f7b4-754f8db57880"
      },
      "source": [
        "# 5. 모델의 수식 확인\r\n",
        "model.get_weights() "
      ],
      "execution_count": 14,
      "outputs": [
        {
          "output_type": "execute_result",
          "data": {
            "text/plain": [
              "[array([[-0.4957886 , -0.46256757,  0.09879804, -0.22347738, -0.06367225,\n",
              "          0.01844388, -0.43402255,  0.45092   ,  0.19587821,  0.2688119 ],\n",
              "        [-0.1599518 ,  0.00535255,  0.2594813 ,  0.19512184,  0.3773814 ,\n",
              "          0.283184  ,  0.17360455, -0.14440945,  0.35555393,  0.11231259],\n",
              "        [-0.36824065, -0.15656982, -0.43460003, -0.23783056,  0.02408058,\n",
              "         -0.06508049,  0.32114983, -0.38141337,  0.33396614,  0.3037004 ],\n",
              "        [ 0.09060293, -1.4349248 ,  1.4070373 ,  1.1389076 , -1.9323723 ,\n",
              "          0.0975284 , -0.21193606, -1.2414236 ,  0.18321657,  1.8751225 ],\n",
              "        [-0.34608352, -0.47340706,  1.1001965 ,  1.237982  , -0.74853194,\n",
              "         -0.37689167, -0.3622175 , -1.320968  , -0.2958042 ,  0.79498833],\n",
              "        [ 0.46564245, -1.7891364 ,  1.9715385 ,  2.5876899 , -2.0133069 ,\n",
              "          0.17860186, -0.46416873, -1.8331952 ,  0.35416657,  2.162877  ],\n",
              "        [ 0.46318287,  0.17133778, -0.21994518,  0.1807035 , -0.01427298,\n",
              "         -0.0768137 ,  0.33776444, -0.2058813 ,  0.14129251, -0.31006038],\n",
              "        [-0.38942432,  0.13567063, -0.7975039 , -0.20510237,  0.10961224,\n",
              "         -0.28163433,  0.44828463,  0.8568427 ,  0.20136994, -0.7640923 ],\n",
              "        [-0.2991531 , -0.21263209,  0.43683252,  0.07148512,  0.11378328,\n",
              "         -0.03455693, -0.09855059,  0.07357535,  0.35066134,  0.07792716],\n",
              "        [-0.09422536,  0.14311339,  0.34464353,  0.08438782,  0.0738491 ,\n",
              "         -0.17564315, -0.5093982 ,  0.4350476 , -0.14211631,  0.3022922 ],\n",
              "        [-0.13680017,  0.48492166, -0.39637664,  0.15007536, -0.32234317,\n",
              "          0.44240552, -0.09833226,  0.3535853 , -0.01715407, -0.26226816],\n",
              "        [-0.37768295, -0.0598347 ,  0.17307854,  0.20679238,  0.2001037 ,\n",
              "         -0.09757262, -0.29107624,  0.09348823, -0.32511917, -0.04126727],\n",
              "        [-0.14347711,  0.5188926 , -0.18364502,  0.13955367,  0.48581657,\n",
              "          0.48152936,  0.39320403,  0.21589375, -0.09202194, -0.42866847]],\n",
              "       dtype=float32),\n",
              " array([-1.9743596e-10, -1.4793490e+00,  1.4826919e+00,  1.4837061e+00,\n",
              "        -1.5041485e+00, -7.2737255e-12,  0.0000000e+00, -1.5096958e+00,\n",
              "         1.6609042e-18,  1.4550747e+00], dtype=float32),\n",
              " array([[-0.00089181],\n",
              "        [-0.15699607],\n",
              "        [ 0.4192425 ],\n",
              "        [ 0.43240285],\n",
              "        [-0.55750567],\n",
              "        [ 0.13461006],\n",
              "        [ 0.69748217],\n",
              "        [-0.42419046],\n",
              "        [-0.03103179],\n",
              "        [ 0.17683336]], dtype=float32),\n",
              " array([1.4970703], dtype=float32)]"
            ]
          },
          "metadata": {
            "tags": []
          },
          "execution_count": 14
        }
      ]
    }
  ]
}