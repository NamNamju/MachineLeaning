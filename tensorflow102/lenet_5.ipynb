{
  "nbformat": 4,
  "nbformat_minor": 0,
  "metadata": {
    "colab": {
      "name": "lenet-5.ipynb",
      "provenance": []
    },
    "kernelspec": {
      "name": "python3",
      "display_name": "Python 3"
    },
    "accelerator": "GPU"
  },
  "cells": [
    {
      "cell_type": "code",
      "metadata": {
        "id": "LX6R0h8eHPMG"
      },
      "source": [
        "import tensorflow as tf\r\n",
        "import pandas as pd"
      ],
      "execution_count": 1,
      "outputs": []
    },
    {
      "cell_type": "code",
      "metadata": {
        "colab": {
          "base_uri": "https://localhost:8080/"
        },
        "id": "EDPCqo4LGRYO",
        "outputId": "65ce9331-9528-4e2b-ae7c-e5481431af95"
      },
      "source": [
        "# 1. 과거의 데이터를 준비한다.\r\n",
        "(독립, 종속), _ = tf.keras.datasets.cifar10.load_data()\r\n",
        "종속 = pd.get_dummies(종속.reshape(50000)) # cifar을 이용할 때는 종속 변수를 reshape해준다.\r\n",
        "print(독립.shape, 종속.shape)"
      ],
      "execution_count": 10,
      "outputs": [
        {
          "output_type": "stream",
          "text": [
            "(50000, 32, 32, 3) (50000, 10)\n"
          ],
          "name": "stdout"
        }
      ]
    },
    {
      "cell_type": "code",
      "metadata": {
        "id": "VCDToH1BHgA8"
      },
      "source": [
        "# 2. 모델을 완성한다.\r\n",
        "X = tf.keras.layers.Input(shape=[32,32,3])\r\n",
        "\r\n",
        "H = tf.keras.layers.Conv2D(6, kernel_size=5,activation='swish')(X)\r\n",
        "H = tf.keras.layers.MaxPooling2D()(H)\r\n",
        "\r\n",
        "H = tf.keras.layers.Conv2D(16, kernel_size=5, activation='swish')(H)\r\n",
        "H = tf.keras.layers.MaxPool2D()(H)\r\n",
        "\r\n",
        "H = tf.keras.layers.Flatten()(H)\r\n",
        "H = tf.keras.layers.Dense(120, activation='swish')(H)\r\n",
        "H = tf.keras.layers.Dense(84, activation='swish')(H)\r\n",
        "Y = tf.keras.layers.Dense(10, activation='softmax')(H)\r\n",
        "\r\n",
        "model = tf.keras.models.Model(X, Y)\r\n",
        "model.compile(loss='categorical_crossentropy', metrics='accuracy')"
      ],
      "execution_count": 12,
      "outputs": []
    },
    {
      "cell_type": "code",
      "metadata": {
        "colab": {
          "base_uri": "https://localhost:8080/"
        },
        "id": "sF0JTy5NImOx",
        "outputId": "3640975a-4dcd-47c4-9740-3886947b150d"
      },
      "source": [
        "model.fit(독립, 종속, epochs=10)"
      ],
      "execution_count": 13,
      "outputs": [
        {
          "output_type": "stream",
          "text": [
            "Epoch 1/10\n",
            "1563/1563 [==============================] - 6s 4ms/step - loss: 3.6999 - accuracy: 0.1189\n",
            "Epoch 2/10\n",
            "1563/1563 [==============================] - 6s 4ms/step - loss: 1.7979 - accuracy: 0.3530\n",
            "Epoch 3/10\n",
            "1563/1563 [==============================] - 6s 4ms/step - loss: 1.6529 - accuracy: 0.4073\n",
            "Epoch 4/10\n",
            "1563/1563 [==============================] - 6s 4ms/step - loss: 1.5755 - accuracy: 0.4359\n",
            "Epoch 5/10\n",
            "1563/1563 [==============================] - 6s 4ms/step - loss: 1.5338 - accuracy: 0.4544\n",
            "Epoch 6/10\n",
            "1563/1563 [==============================] - 6s 4ms/step - loss: 1.4866 - accuracy: 0.4772\n",
            "Epoch 7/10\n",
            "1563/1563 [==============================] - 6s 4ms/step - loss: 1.4619 - accuracy: 0.4874\n",
            "Epoch 8/10\n",
            "1563/1563 [==============================] - 6s 4ms/step - loss: 1.4478 - accuracy: 0.4915\n",
            "Epoch 9/10\n",
            "1563/1563 [==============================] - 6s 4ms/step - loss: 1.4247 - accuracy: 0.4994\n",
            "Epoch 10/10\n",
            "1563/1563 [==============================] - 6s 4ms/step - loss: 1.4174 - accuracy: 0.5039\n"
          ],
          "name": "stdout"
        },
        {
          "output_type": "execute_result",
          "data": {
            "text/plain": [
              "<tensorflow.python.keras.callbacks.History at 0x7ffb10050240>"
            ]
          },
          "metadata": {
            "tags": []
          },
          "execution_count": 13
        }
      ]
    },
    {
      "cell_type": "code",
      "metadata": {
        "colab": {
          "base_uri": "https://localhost:8080/"
        },
        "id": "_I8XHbmhI318",
        "outputId": "d217ea65-19dc-40c6-a7a9-b34357e92868"
      },
      "source": [
        "model.summary()"
      ],
      "execution_count": 14,
      "outputs": [
        {
          "output_type": "stream",
          "text": [
            "Model: \"model_2\"\n",
            "_________________________________________________________________\n",
            "Layer (type)                 Output Shape              Param #   \n",
            "=================================================================\n",
            "input_5 (InputLayer)         [(None, 32, 32, 3)]       0         \n",
            "_________________________________________________________________\n",
            "conv2d_7 (Conv2D)            (None, 28, 28, 6)         456       \n",
            "_________________________________________________________________\n",
            "max_pooling2d_6 (MaxPooling2 (None, 14, 14, 6)         0         \n",
            "_________________________________________________________________\n",
            "conv2d_8 (Conv2D)            (None, 10, 10, 16)        2416      \n",
            "_________________________________________________________________\n",
            "max_pooling2d_7 (MaxPooling2 (None, 5, 5, 16)          0         \n",
            "_________________________________________________________________\n",
            "flatten_3 (Flatten)          (None, 400)               0         \n",
            "_________________________________________________________________\n",
            "dense_7 (Dense)              (None, 120)               48120     \n",
            "_________________________________________________________________\n",
            "dense_8 (Dense)              (None, 84)                10164     \n",
            "_________________________________________________________________\n",
            "dense_9 (Dense)              (None, 10)                850       \n",
            "=================================================================\n",
            "Total params: 62,006\n",
            "Trainable params: 62,006\n",
            "Non-trainable params: 0\n",
            "_________________________________________________________________\n"
          ],
          "name": "stdout"
        }
      ]
    }
  ]
}