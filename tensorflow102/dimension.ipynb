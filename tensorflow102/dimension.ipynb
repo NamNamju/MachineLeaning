{
  "nbformat": 4,
  "nbformat_minor": 0,
  "metadata": {
    "colab": {
      "name": "dimension.ipynb",
      "provenance": []
    },
    "kernelspec": {
      "name": "python3",
      "display_name": "Python 3"
    }
  },
  "cells": [
    {
      "cell_type": "code",
      "metadata": {
        "id": "-8E_CuM7d1T7"
      },
      "source": [
        "import numpy as np"
      ],
      "execution_count": 1,
      "outputs": []
    },
    {
      "cell_type": "code",
      "metadata": {
        "colab": {
          "base_uri": "https://localhost:8080/"
        },
        "id": "a_J_Wcjzd6BV",
        "outputId": "e0799beb-9a12-4533-9a64-509b3abaf293"
      },
      "source": [
        "x1 = np.array([5.1,3.5,1.4,0.2])\r\n",
        "print(x1.ndim, x1.shape)\r\n",
        "# ndim : 값이 들어가 있는 모양(몇 차원인가) shape : 몇 개의 요소를 지녔는가."
      ],
      "execution_count": 3,
      "outputs": [
        {
          "output_type": "stream",
          "text": [
            "1 (4,)\n"
          ],
          "name": "stdout"
        }
      ]
    },
    {
      "cell_type": "code",
      "metadata": {
        "colab": {
          "base_uri": "https://localhost:8080/"
        },
        "id": "rPhSF2lceD7v",
        "outputId": "29f3f936-b1b7-4215-90fa-ad71dadb0c36"
      },
      "source": [
        "x2 = np.array([4.9,3.0,1.4,0.2])\r\n",
        "x3 = np.array([4.7,3.2,1.3,0.2])\r\n",
        "\r\n",
        "아이리스 = np.array([x1,x2,x3]) # 2차원 배열이 만들어짐.\r\n",
        "print(아이리스.ndim, 아이리스.shape)\r\n",
        "# 2차원 형태, (3, 4)\r\n",
        "# 배열의 깊이 = 차원의 수"
      ],
      "execution_count": 6,
      "outputs": [
        {
          "output_type": "stream",
          "text": [
            "2 (3, 4)\n"
          ],
          "name": "stdout"
        }
      ]
    },
    {
      "cell_type": "code",
      "metadata": {
        "colab": {
          "base_uri": "https://localhost:8080/"
        },
        "id": "NhG66l5zelB4",
        "outputId": "eb0543bd-8a22-4d3a-ab0a-1ad6fa3bf5c9"
      },
      "source": [
        "img1 = np.array([[0,255],[255,0]])\r\n",
        "print(img1.ndim, img1.shape)\r\n",
        "\r\n",
        "img2 = np.array([[255,255],[255,255]])\r\n",
        "img3 = np.array([[0,0],[0,0]])\r\n",
        "\r\n",
        "이미지셋 = np.array([img1,img2,img3])\r\n",
        "print(이미지셋.ndim, 이미지셋.shape)\r\n",
        "# 3차원 형태, (3, 2, 2)\r\n"
      ],
      "execution_count": 9,
      "outputs": [
        {
          "output_type": "stream",
          "text": [
            "2 (2, 2)\n",
            "3 (3, 2, 2)\n"
          ],
          "name": "stdout"
        }
      ]
    }
  ]
}